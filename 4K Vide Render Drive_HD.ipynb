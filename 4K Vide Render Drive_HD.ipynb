{
  "nbformat": 4,
  "nbformat_minor": 0,
  "metadata": {
    "colab": {
      "name": "Copy of HD.ipynb",
      "provenance": [],
      "collapsed_sections": []
    },
    "kernelspec": {
      "name": "python3",
      "display_name": "Python 3"
    },
    "language_info": {
      "name": "python"
    },
    "accelerator": "GPU",
    "gpuClass": "standard"
  },
  "cells": [
    {
      "cell_type": "markdown",
      "source": [
        "#Before start make sure that you choose * Hardware Accelerator = GPU \n",
        "\n",
        "##Steps\n",
        "\n",
        "\n",
        "*   Make sure you've enabled GPU runtime on your Colab\n",
        "*   Upload you video on your Google Drive or directly Upload video\n",
        "*   Run this notbook step by step\n",
        "\n"
      ],
      "metadata": {
        "id": "dD0-sj35_uyo"
      }
    },
    {
      "cell_type": "markdown",
      "source": [
        "#Upload Parameter"
      ],
      "metadata": {
        "id": "mbuiC7SUCs49"
      }
    },
    {
      "cell_type": "code",
      "source": [
        "#@title Connect Drive\n",
        "from google.colab import drive \n",
        "drive.mount('/content/drive')"
      ],
      "metadata": {
        "id": "SDGjipc66YWh",
        "cellView": "form"
      },
      "execution_count": null,
      "outputs": []
    },
    {
      "cell_type": "markdown",
      "source": [
        "#OR"
      ],
      "metadata": {
        "id": "SV-KQAKZAjf0"
      }
    },
    {
      "cell_type": "code",
      "source": [
        "#@title Video Upload (only if you not using G - DRIVE) { display-mode: \"form\" }\n",
        "import os\n",
        "from google.colab import files\n",
        "import shutil\n",
        "\n",
        "upload_folder = 'upload'\n",
        "result_folder = 'results'\n",
        "\n",
        "if os.path.isdir(upload_folder):\n",
        "    shutil.rmtree(upload_folder)\n",
        "if os.path.isdir(result_folder):\n",
        "    shutil.rmtree(result_folder)\n",
        "os.mkdir(upload_folder)\n",
        "os.mkdir(result_folder)\n",
        "\n",
        "# upload images\n",
        "uploaded = files.upload()\n",
        "for filename in uploaded.keys():\n",
        "  dst_path = os.path.join(upload_folder, filename)\n",
        "  print(f'move {filename} to {dst_path}')\n",
        "  shutil.move(filename, dst_path)"
      ],
      "metadata": {
        "id": "X8_DbtSDRWF6"
      },
      "execution_count": null,
      "outputs": []
    },
    {
      "cell_type": "markdown",
      "source": [
        "#Render Time 🎉🎉🎉"
      ],
      "metadata": {
        "id": "sb-xrz30CeSA"
      }
    },
    {
      "cell_type": "code",
      "execution_count": null,
      "metadata": {
        "id": "6w-AVHNwQv92"
      },
      "outputs": [],
      "source": [
        "#@title Setting-Environment  { display-mode: \"form\" }\n",
        "\n",
        "!git clone https://github.com/xinntao/Real-ESRGAN.git\n",
        "%cd Real-ESRGAN\n",
        "!pip install basicsr\n",
        "!pip install facexlib\n",
        "!pip install gfpgan\n",
        "!pip install ffmpeg-python\n",
        "!pip install -r requirements.txt\n",
        "!python setup.py develop\n",
        "!wget https://github.com/xinntao/Real-ESRGAN/releases/download/v0.2.5.0/realesr-animevideov3.pth -P experiments/pretrained_models"
      ]
    },
    {
      "cell_type": "markdown",
      "source": [
        "#If You Are Using Google Drive\n"
      ],
      "metadata": {
        "id": "eYq6lVfgBKlC"
      }
    },
    {
      "cell_type": "code",
      "source": [
        "#@title Change \"filename.mp4\" to your clips name to Start Render{ display-mode: \"both\" }\n",
        "! python inference_realesrgan_video.py --i /content/drive/MyDrive/filename.mp4 -n realesr-animevideov3 -s 2 --suffix outx2"
      ],
      "metadata": {
        "id": "lS3bA32ZRjGj"
      },
      "execution_count": null,
      "outputs": []
    },
    {
      "cell_type": "markdown",
      "source": [
        "#If You Are Directly Uploading"
      ],
      "metadata": {
        "id": "o3sUY_UUBUBi"
      }
    },
    {
      "cell_type": "code",
      "source": [
        "#@title Change \"filename.mp4\" to your clips name to Start Render{ display-mode: \"both\" }\n",
        "! python inference_realesrgan_video.py --i upload/filename.mp4 -n realesr-animevideov3 -s 2 --suffix outx2"
      ],
      "metadata": {
        "id": "PKNXJBadBay-"
      },
      "execution_count": null,
      "outputs": []
    },
    {
      "cell_type": "code",
      "source": [
        "#@title Start Encode { vertical-output: true, display-mode: \"form\" }\n",
        "from IPython.display import HTML\n",
        "from base64 import b64encode\n",
        " \n",
        "def show_video(video_path, video_width = 600):\n",
        "   \n",
        "  video_file = open(video_path, \"r+b\").read()\n",
        " \n",
        "  video_url = f\"data:video/mp4;base64,{b64encode(video_file).decode()}\"\n",
        "  return HTML(f\"\"\"<video width={video_width} controls><source src=\"{video_url}\"></video>\"\"\")\n"
      ],
      "metadata": {
        "id": "ZYk7o3awfsMW"
      },
      "execution_count": null,
      "outputs": []
    },
    {
      "cell_type": "markdown",
      "source": [
        "#Download Time 📩📩📩"
      ],
      "metadata": {
        "id": "CupSnHyTDWyc"
      }
    },
    {
      "cell_type": "code",
      "source": [
        "#@title Change \"filename_outx2.mp4\" to your clips name with suffix \"_outx2.mp4\" then run cell to download it. { vertical-output: true, display-mode: \"both\" }\n",
        "files.download('results/filename_outx2.mp4')"
      ],
      "metadata": {
        "colab": {
          "base_uri": "https://localhost:8080/",
          "height": 17
        },
        "id": "_Sl1d3fWgFHZ",
        "outputId": "e1a39313-2cbc-45ef-c735-bd71e68f0cc0"
      },
      "execution_count": null,
      "outputs": [
        {
          "output_type": "display_data",
          "data": {
            "text/plain": [
              "<IPython.core.display.Javascript object>"
            ],
            "application/javascript": [
              "\n",
              "    async function download(id, filename, size) {\n",
              "      if (!google.colab.kernel.accessAllowed) {\n",
              "        return;\n",
              "      }\n",
              "      const div = document.createElement('div');\n",
              "      const label = document.createElement('label');\n",
              "      label.textContent = `Downloading \"${filename}\": `;\n",
              "      div.appendChild(label);\n",
              "      const progress = document.createElement('progress');\n",
              "      progress.max = size;\n",
              "      div.appendChild(progress);\n",
              "      document.body.appendChild(div);\n",
              "\n",
              "      const buffers = [];\n",
              "      let downloaded = 0;\n",
              "\n",
              "      const channel = await google.colab.kernel.comms.open(id);\n",
              "      // Send a message to notify the kernel that we're ready.\n",
              "      channel.send({})\n",
              "\n",
              "      for await (const message of channel.messages) {\n",
              "        // Send a message to notify the kernel that we're ready.\n",
              "        channel.send({})\n",
              "        if (message.buffers) {\n",
              "          for (const buffer of message.buffers) {\n",
              "            buffers.push(buffer);\n",
              "            downloaded += buffer.byteLength;\n",
              "            progress.value = downloaded;\n",
              "          }\n",
              "        }\n",
              "      }\n",
              "      const blob = new Blob(buffers, {type: 'application/binary'});\n",
              "      const a = document.createElement('a');\n",
              "      a.href = window.URL.createObjectURL(blob);\n",
              "      a.download = filename;\n",
              "      div.appendChild(a);\n",
              "      a.click();\n",
              "      div.remove();\n",
              "    }\n",
              "  "
            ]
          },
          "metadata": {}
        },
        {
          "output_type": "display_data",
          "data": {
            "text/plain": [
              "<IPython.core.display.Javascript object>"
            ],
            "application/javascript": [
              "download(\"download_193d0c21-4fa4-4e9e-9fb4-03ece4c83d68\", \"bc_outx2.mp4\", 70969704)"
            ]
          },
          "metadata": {}
        }
      ]
    },
    {
      "cell_type": "markdown",
      "source": [
        "#Run This Cell If You Are Using Google Drive"
      ],
      "metadata": {
        "id": "IdtJSLXgB5MT"
      }
    },
    {
      "cell_type": "code",
      "source": [
        "#@title Change \"filename.mp4\" to your clips name and run Cell\n",
        "rm /content/drive/MyDrive/filename.mp4"
      ],
      "metadata": {
        "id": "--Y20Zm18V2_"
      },
      "execution_count": null,
      "outputs": []
    }
  ]
}